{
 "cells": [
  {
   "cell_type": "markdown",
   "id": "55345128-e8ee-4d4c-8c6e-c7c0a031fca1",
   "metadata": {},
   "source": [
    "# Objects\n",
    "- Considering a robot that is a 1 meter circle.\n",
    "- 3 objects: rectangle, triangle, L\n",
    "- All with obj_radius = 5 m\n"
   ]
  },
  {
   "cell_type": "markdown",
   "id": "f7822318-dc07-4bd7-ad88-db473c03d727",
   "metadata": {},
   "source": [
    "## Final Objects:"
   ]
  },
  {
   "cell_type": "code",
   "execution_count": null,
   "id": "fb100139-2ed7-4b5a-96ad-4e5812b4332e",
   "metadata": {},
   "outputs": [],
   "source": [
    "# Rectangle:\n",
    "rectangle_desc = {\n",
    "    'name': 'MultiPolygons',\n",
    "    'poly_vertices_l': [\n",
    "        [[2.23606797749979, -4.47213595499958],\n",
    "         [2.23606797749979, 4.47213595499958],\n",
    "         [-2.23606797749979, 4.47213595499958],\n",
    "         [-2.23606797749979, -4.47213595499958]]\n",
    "    ]\n",
    "}\n",
    "\n",
    "triangle_desc = {\n",
    "    'name': 'MultiPolygons',\n",
    "    'poly_vertices_l': [\n",
    "        [[3.75, -2.5],\n",
    "         [0.0, 5.0],\n",
    "         [-3.75, -2.5]]\n",
    "    ]\n",
    "}\n",
    "\n",
    "L_desc = {\n",
    "    'name': 'MultiPolygons',\n",
    "    'poly_vertices_l': [[[-0.03305392443269466, -2.6112598540991714],\n",
    "  [-0.03305392443269466, 4.2639559668821585],\n",
    "  [-2.6112598540991714, 4.2639559668821585],\n",
    "  [-2.6112598540991714, -2.6112598540991714]],\n",
    " [[4.2639559668821585, -2.6112598540991714],\n",
    "  [4.2639559668821585, -0.03305392443269466],\n",
    "  [-0.03305392443269466, -0.03305392443269466],\n",
    "  [-0.03305392443269466, -2.6112598540991714]]]\n",
    "}\n",
    "\n",
    "U_desc = {\n",
    "    'name': 'MultiPolygons',\n",
    "    'poly_vertices_l': [\n",
    "        [[-0.2583535923246873, -3.247873787392744],\n",
    "      [-0.2583535923246873, 3.247873787392744],\n",
    "      [-2.6942588844721547, 3.247873787392744],\n",
    "      [-2.6942588844721547, -3.247873787392744]],\n",
    "     [[3.8014884967249705, -3.247873787392744],\n",
    "      [3.8014884967249705, -1.623936893696372],\n",
    "      [-0.2583535923246873, -1.623936893696372],\n",
    "      [-0.2583535923246873, -3.247873787392744]],\n",
    "     [[3.8014884967249705, 1.623936893696372],\n",
    "      [3.8014884967249705, 3.247873787392744],\n",
    "      [-0.2583535923246873, 3.247873787392744],\n",
    "      [-0.2583535923246873, 1.623936893696372]]\n",
    "    ]\n",
    "}"
   ]
  },
  {
   "cell_type": "code",
   "execution_count": 16,
   "id": "ef0d645d-d626-41f5-b326-19140ebfbb47",
   "metadata": {},
   "outputs": [],
   "source": [
    "import sys\n",
    "sys.path.append('../.')\n",
    "\n",
    "import numpy as np\n",
    "import matplotlib.pyplot as plt\n",
    "\n",
    "from research_envs.b2PushWorld.TransportationPoseWorld import TransportationWorld, TransportationWorldConfig\n",
    "from research_envs.b2PushWorld.Object import MultiPolygonsObj"
   ]
  },
  {
   "cell_type": "code",
   "execution_count": 6,
   "id": "367fad22-16a4-4092-9dcb-dbb1e8623217",
   "metadata": {},
   "outputs": [],
   "source": [
    "world_config= TransportationWorldConfig(\n",
    "    obstacle_l = [],\n",
    "    object_l=[\n",
    "        {'name':'Circle', 'radius':5.0},\n",
    "    ],\n",
    "    n_rays = 0,\n",
    "    agent_type = 'continuous',\n",
    "    max_force_length=1.0,\n",
    "    min_force_length=0.0,\n",
    "    goal_tolerance={'pos':2, 'angle':np.pi/18},\n",
    "    max_obj_dist=10.0,\n",
    ")"
   ]
  },
  {
   "cell_type": "markdown",
   "id": "1f4e7630-1889-449a-af79-7d5e880c52be",
   "metadata": {},
   "source": [
    "## 1- Rectangle\n",
    "\n",
    "2x1 rectangle => normalized such that its radius is 5."
   ]
  },
  {
   "cell_type": "code",
   "execution_count": 12,
   "id": "a41810d5-8f0e-4267-932a-57efcf945b27",
   "metadata": {},
   "outputs": [
    {
     "name": "stdout",
     "output_type": "stream",
     "text": [
      "CoM: b2Vec2(0,0)\n"
     ]
    }
   ],
   "source": [
    "obj_desc = {\n",
    "    'name': 'MultiPolygons',\n",
    "    'poly_vertices_l': [\n",
    "        [[0, 10], [0,0], [5, 0], [5, 10]]\n",
    "    ]\n",
    "}\n",
    "world_config.object_l = [obj_desc]\n",
    "world = TransportationWorld(world_config)"
   ]
  },
  {
   "cell_type": "code",
   "execution_count": 22,
   "id": "8d0c8b8e-d204-442e-a024-99bd0fef127d",
   "metadata": {},
   "outputs": [
    {
     "data": {
      "text/plain": [
       "<matplotlib.image.AxesImage at 0x168a7ac10>"
      ]
     },
     "execution_count": 22,
     "metadata": {},
     "output_type": "execute_result"
    },
    {
     "data": {
      "image/png": "[encoded data removed]",
      "text/plain": [
       "<Figure size 640x480 with 1 Axes>"
      ]
     },
     "metadata": {},
     "output_type": "display_data"
    }
   ],
   "source": [
    "screen =  255 * np.ones(shape=(world.screen_height, world.screen_width, 3), dtype=np.uint8)\n",
    "world.obj.DrawInPose([25,25], 0, world.pixels_per_meter, screen, (0, 255, 0), 2)\n",
    "plt.imshow(screen)"
   ]
  },
  {
   "cell_type": "code",
   "execution_count": 28,
   "id": "728f2cf6-2fc5-4bc4-acdf-36d2e5016721",
   "metadata": {},
   "outputs": [
    {
     "name": "stdout",
     "output_type": "stream",
     "text": [
      "Radius:  5.5901699437494745\n",
      "Scale:  0.8944271909999159\n"
     ]
    }
   ],
   "source": [
    "s = 5.0 / world.obj.obj_radius\n",
    "print('Radius: ', world.obj.obj_radius)\n",
    "print('Scale: ', s)"
   ]
  },
  {
   "cell_type": "code",
   "execution_count": 25,
   "id": "a1402f99-ce3d-4f99-978f-8ccac1784d26",
   "metadata": {},
   "outputs": [
    {
     "name": "stdout",
     "output_type": "stream",
     "text": [
      "[(2.5, -5.0), (2.5, 5.0), (-2.5, 5.0), (-2.5, -5.0)]\n"
     ]
    }
   ],
   "source": [
    "body = world.obj.obj_rigid_body\n",
    "for f_i in range(len(body.fixtures)):\n",
    "    print(body.fixtures[f_i].shape.vertices)"
   ]
  },
  {
   "cell_type": "code",
   "execution_count": 29,
   "id": "20beb22b-a29d-4789-ad19-5f75a001f8b5",
   "metadata": {},
   "outputs": [],
   "source": [
    "final_vertices_l = []\n",
    "body = world.obj.obj_rigid_body\n",
    "for f_i in range(len(body.fixtures)):\n",
    "    final_vertices_l.append(\n",
    "        [[v[0]*s, v[1]*s] for v in body.fixtures[f_i].shape.vertices]\n",
    "    )"
   ]
  },
  {
   "cell_type": "code",
   "execution_count": 30,
   "id": "1c903b3c-7dc7-4a9a-9fd7-bbf232b0fe46",
   "metadata": {},
   "outputs": [
    {
     "data": {
      "text/plain": [
       "[[[2.23606797749979, -4.47213595499958],\n",
       "  [2.23606797749979, 4.47213595499958],\n",
       "  [-2.23606797749979, 4.47213595499958],\n",
       "  [-2.23606797749979, -4.47213595499958]]]"
      ]
     },
     "execution_count": 30,
     "metadata": {},
     "output_type": "execute_result"
    }
   ],
   "source": [
    "final_vertices_l"
   ]
  },
  {
   "cell_type": "code",
   "execution_count": 31,
   "id": "3afea573-6aad-4b21-a0c8-4d374862354c",
   "metadata": {},
   "outputs": [
    {
     "name": "stdout",
     "output_type": "stream",
     "text": [
      "CoM: b2Vec2(0,0)\n",
      "Radius:  5.0\n"
     ]
    }
   ],
   "source": [
    "obj_desc = {\n",
    "    'name': 'MultiPolygons',\n",
    "    'poly_vertices_l': final_vertices_l\n",
    "}\n",
    "world_config.object_l = [obj_desc]\n",
    "world = TransportationWorld(world_config)\n",
    "print('Radius: ', world.obj.obj_radius)"
   ]
  },
  {
   "cell_type": "markdown",
   "id": "73eee3c9-4515-4246-82a7-348689fbd743",
   "metadata": {},
   "source": [
    "## Triangle\n"
   ]
  },
  {
   "cell_type": "code",
   "execution_count": 34,
   "id": "e50fc921-cdce-47a2-95f1-7d13beb94d92",
   "metadata": {},
   "outputs": [
    {
     "name": "stdout",
     "output_type": "stream",
     "text": [
      "CoM: b2Vec2(0,0)\n",
      "Radius:  5.333333333333333\n"
     ]
    },
    {
     "data": {
      "text/plain": [
       "<matplotlib.image.AxesImage at 0x168c59fa0>"
      ]
     },
     "execution_count": 34,
     "metadata": {},
     "output_type": "execute_result"
    },
    {
     "data": {
      "image/png": "[encoded data removed]",
      "text/plain": [
       "<Figure size 640x480 with 1 Axes>"
      ]
     },
     "metadata": {},
     "output_type": "display_data"
    }
   ],
   "source": [
    "obj_desc = {\n",
    "    'name': 'MultiPolygons',\n",
    "    'poly_vertices_l': [\n",
    "        [[-4, -2], [4, -2], [0, 6]]\n",
    "    ]\n",
    "}\n",
    "world_config.object_l = [obj_desc]\n",
    "world = TransportationWorld(world_config)\n",
    "print('Radius: ', world.obj.obj_radius)\n",
    "screen =  255 * np.ones(shape=(world.screen_height, world.screen_width, 3), dtype=np.uint8)\n",
    "world.obj.DrawInPose([25,25], 0, world.pixels_per_meter, screen, (0, 255, 0), 2)\n",
    "plt.imshow(screen)"
   ]
  },
  {
   "cell_type": "code",
   "execution_count": 35,
   "id": "1fcca9fa-1360-4d15-9b3e-dba09e2dbf7d",
   "metadata": {},
   "outputs": [
    {
     "name": "stdout",
     "output_type": "stream",
     "text": [
      "Radius:  5.333333333333333\n",
      "Scale:  0.9375\n"
     ]
    },
    {
     "data": {
      "text/plain": [
       "[[[3.75, -2.500000074505806],\n",
       "  [0.0, 5.000000149011612],\n",
       "  [-3.75, -2.500000074505806]]]"
      ]
     },
     "execution_count": 35,
     "metadata": {},
     "output_type": "execute_result"
    }
   ],
   "source": [
    "s = 5.0 / world.obj.obj_radius\n",
    "print('Radius: ', world.obj.obj_radius)\n",
    "print('Scale: ', s)\n",
    "\n",
    "final_vertices_l = []\n",
    "body = world.obj.obj_rigid_body\n",
    "for f_i in range(len(body.fixtures)):\n",
    "    final_vertices_l.append(\n",
    "        [[v[0]*s, v[1]*s] for v in body.fixtures[f_i].shape.vertices]\n",
    "    )\n",
    "final_vertices_l"
   ]
  },
  {
   "cell_type": "code",
   "execution_count": 38,
   "id": "b515393c-29e7-45a3-94ee-137481c60095",
   "metadata": {},
   "outputs": [
    {
     "name": "stdout",
     "output_type": "stream",
     "text": [
      "CoM: b2Vec2(0,0)\n",
      "Radius:  5.0\n"
     ]
    },
    {
     "data": {
      "text/plain": [
       "<matplotlib.image.AxesImage at 0x168ce00a0>"
      ]
     },
     "execution_count": 38,
     "metadata": {},
     "output_type": "execute_result"
    },
    {
     "data": {
      "image/png": "[encoded data removed]",
      "text/plain": [
       "<Figure size 640x480 with 1 Axes>"
      ]
     },
     "metadata": {},
     "output_type": "display_data"
    }
   ],
   "source": [
    "obj_desc = {\n",
    "    'name': 'MultiPolygons',\n",
    "    'poly_vertices_l': [\n",
    "        [[3.75, -2.5],\n",
    "         [0.0, 5.0],\n",
    "         [-3.75, -2.5]]\n",
    "    ]\n",
    "}\n",
    "world_config.object_l = [obj_desc]\n",
    "world = TransportationWorld(world_config)\n",
    "print('Radius: ', world.obj.obj_radius)\n",
    "screen =  255 * np.ones(shape=(world.screen_height, world.screen_width, 3), dtype=np.uint8)\n",
    "world.obj.DrawInPose([25,25], 0, world.pixels_per_meter, screen, (0, 255, 0), 2)\n",
    "plt.imshow(screen)"
   ]
  },
  {
   "cell_type": "markdown",
   "id": "70609910-a642-49a6-8f04-1cbacf5cb9f0",
   "metadata": {},
   "source": [
    "## L"
   ]
  },
  {
   "cell_type": "code",
   "execution_count": 39,
   "id": "2f669391-b6ee-4cdd-9f1b-5c5208dfaf7c",
   "metadata": {},
   "outputs": [
    {
     "name": "stdout",
     "output_type": "stream",
     "text": [
      "CoM: b2Vec2(0,4.89064e-08)\n",
      "Radius:  5.817999005331258\n"
     ]
    },
    {
     "data": {
      "text/plain": [
       "<matplotlib.image.AxesImage at 0x168d22b50>"
      ]
     },
     "execution_count": 39,
     "metadata": {},
     "output_type": "execute_result"
    },
    {
     "data": {
      "image/png": "[encoded data removed]",
      "text/plain": [
       "<Figure size 640x480 with 1 Axes>"
      ]
     },
     "metadata": {},
     "output_type": "display_data"
    }
   ],
   "source": [
    "obj_desc = {\n",
    "    'name': 'MultiPolygons',\n",
    "    'poly_vertices_l': [\n",
    "        [[0, 8], [0, 0], [3, 0], [3, 8]],\n",
    "        [[3, 3], [3, 0], [8, 0], [8, 3]]\n",
    "    ]\n",
    "}\n",
    "world_config.object_l = [obj_desc]\n",
    "world = TransportationWorld(world_config)\n",
    "print('Radius: ', world.obj.obj_radius)\n",
    "screen =  255 * np.ones(shape=(world.screen_height, world.screen_width, 3), dtype=np.uint8)\n",
    "world.obj.DrawInPose([25,25], 0, world.pixels_per_meter, screen, (0, 255, 0), 2)\n",
    "plt.imshow(screen)"
   ]
  },
  {
   "cell_type": "code",
   "execution_count": 40,
   "id": "6e76b9df-4a57-4977-88a7-d067e40e2486",
   "metadata": {},
   "outputs": [
    {
     "name": "stdout",
     "output_type": "stream",
     "text": [
      "Radius:  5.817999005331258\n",
      "Scale:  0.8594020032348418\n"
     ]
    },
    {
     "data": {
      "text/plain": [
       "[[[-0.03305392443269466, -2.6112598540991714],\n",
       "  [-0.03305392443269466, 4.2639559668821585],\n",
       "  [-2.6112598540991714, 4.2639559668821585],\n",
       "  [-2.6112598540991714, -2.6112598540991714]],\n",
       " [[4.2639559668821585, -2.6112598540991714],\n",
       "  [4.2639559668821585, -0.03305392443269466],\n",
       "  [-0.03305392443269466, -0.03305392443269466],\n",
       "  [-0.03305392443269466, -2.6112598540991714]]]"
      ]
     },
     "execution_count": 40,
     "metadata": {},
     "output_type": "execute_result"
    }
   ],
   "source": [
    "s = 5.0 / world.obj.obj_radius\n",
    "print('Radius: ', world.obj.obj_radius)\n",
    "print('Scale: ', s)\n",
    "\n",
    "final_vertices_l = []\n",
    "body = world.obj.obj_rigid_body\n",
    "for f_i in range(len(body.fixtures)):\n",
    "    final_vertices_l.append(\n",
    "        [[v[0]*s, v[1]*s] for v in body.fixtures[f_i].shape.vertices]\n",
    "    )\n",
    "final_vertices_l"
   ]
  },
  {
   "cell_type": "code",
   "execution_count": 41,
   "id": "86bcdb20-fb82-4a0b-a05f-31f78c41a566",
   "metadata": {},
   "outputs": [
    {
     "name": "stdout",
     "output_type": "stream",
     "text": [
      "CoM: b2Vec2(0,0)\n",
      "Radius:  4.999999851317127\n"
     ]
    },
    {
     "data": {
      "text/plain": [
       "<matplotlib.image.AxesImage at 0x168d89ca0>"
      ]
     },
     "execution_count": 41,
     "metadata": {},
     "output_type": "execute_result"
    },
    {
     "data": {
      "image/png": "[encoded data removed]",
      "text/plain": [
       "<Figure size 640x480 with 1 Axes>"
      ]
     },
     "metadata": {},
     "output_type": "display_data"
    }
   ],
   "source": [
    "obj_desc = {\n",
    "    'name': 'MultiPolygons',\n",
    "    'poly_vertices_l': [[[-0.03305392443269466, -2.6112598540991714],\n",
    "  [-0.03305392443269466, 4.2639559668821585],\n",
    "  [-2.6112598540991714, 4.2639559668821585],\n",
    "  [-2.6112598540991714, -2.6112598540991714]],\n",
    " [[4.2639559668821585, -2.6112598540991714],\n",
    "  [4.2639559668821585, -0.03305392443269466],\n",
    "  [-0.03305392443269466, -0.03305392443269466],\n",
    "  [-0.03305392443269466, -2.6112598540991714]]]\n",
    "}\n",
    "world_config.object_l = [obj_desc]\n",
    "world = TransportationWorld(world_config)\n",
    "print('Radius: ', world.obj.obj_radius)\n",
    "screen =  255 * np.ones(shape=(world.screen_height, world.screen_width, 3), dtype=np.uint8)\n",
    "world.obj.DrawInPose([25,25], 0, world.pixels_per_meter, screen, (0, 255, 0), 2)\n",
    "plt.imshow(screen)"
   ]
  },
  {
   "cell_type": "markdown",
   "id": "3f3bae3e-89d3-4fbc-897e-178c4de8c689",
   "metadata": {},
   "source": [
    "# U"
   ]
  },
  {
   "cell_type": "code",
   "execution_count": 43,
   "id": "e6a0489c-0906-418f-a1a2-3a62e7edb08d",
   "metadata": {},
   "outputs": [
    {
     "name": "stdout",
     "output_type": "stream",
     "text": [
      "CoM: b2Vec2(0,0)\n",
      "Radius:  6.157874754134197\n"
     ]
    },
    {
     "data": {
      "text/plain": [
       "<matplotlib.image.AxesImage at 0x168e69d00>"
      ]
     },
     "execution_count": 43,
     "metadata": {},
     "output_type": "execute_result"
    },
    {
     "data": {
      "image/png": "[encoded data removed]",
      "text/plain": [
       "<Figure size 640x480 with 1 Axes>"
      ]
     },
     "metadata": {},
     "output_type": "display_data"
    }
   ],
   "source": [
    "obj_desc = {\n",
    "    'name': 'MultiPolygons',\n",
    "    'poly_vertices_l': [\n",
    "        [[0, 8], [0, 0], [3, 0], [3, 8]],\n",
    "        [[3, 2], [3, 0], [8, 0], [8, 2]],\n",
    "        [[3, 8], [3, 6], [8, 6], [8, 8]]\n",
    "    ]\n",
    "}\n",
    "world_config.object_l = [obj_desc]\n",
    "world = TransportationWorld(world_config)\n",
    "print('Radius: ', world.obj.obj_radius)\n",
    "screen =  255 * np.ones(shape=(world.screen_height, world.screen_width, 3), dtype=np.uint8)\n",
    "world.obj.DrawInPose([25,25], 0, world.pixels_per_meter, screen, (0, 255, 0), 2)\n",
    "plt.imshow(screen)"
   ]
  },
  {
   "cell_type": "code",
   "execution_count": 44,
   "id": "23de019a-fd4e-4e49-84f8-bd96859068f1",
   "metadata": {},
   "outputs": [
    {
     "name": "stdout",
     "output_type": "stream",
     "text": [
      "Radius:  6.157874754134197\n",
      "Scale:  0.811968446848186\n"
     ]
    },
    {
     "data": {
      "text/plain": [
       "[[[-0.2583535923246873, -3.247873787392744],\n",
       "  [-0.2583535923246873, 3.247873787392744],\n",
       "  [-2.6942588844721547, 3.247873787392744],\n",
       "  [-2.6942588844721547, -3.247873787392744]],\n",
       " [[3.8014884967249705, -3.247873787392744],\n",
       "  [3.8014884967249705, -1.623936893696372],\n",
       "  [-0.2583535923246873, -1.623936893696372],\n",
       "  [-0.2583535923246873, -3.247873787392744]],\n",
       " [[3.8014884967249705, 1.623936893696372],\n",
       "  [3.8014884967249705, 3.247873787392744],\n",
       "  [-0.2583535923246873, 3.247873787392744],\n",
       "  [-0.2583535923246873, 1.623936893696372]]]"
      ]
     },
     "execution_count": 44,
     "metadata": {},
     "output_type": "execute_result"
    }
   ],
   "source": [
    "s = 5.0 / world.obj.obj_radius\n",
    "print('Radius: ', world.obj.obj_radius)\n",
    "print('Scale: ', s)\n",
    "\n",
    "final_vertices_l = []\n",
    "body = world.obj.obj_rigid_body\n",
    "for f_i in range(len(body.fixtures)):\n",
    "    final_vertices_l.append(\n",
    "        [[v[0]*s, v[1]*s] for v in body.fixtures[f_i].shape.vertices]\n",
    "    )\n",
    "final_vertices_l"
   ]
  },
  {
   "cell_type": "code",
   "execution_count": 45,
   "id": "15e3e8ed-faa4-4033-9163-55e3ebda6544",
   "metadata": {},
   "outputs": [
    {
     "name": "stdout",
     "output_type": "stream",
     "text": [
      "CoM: b2Vec2(0,-6.57505e-08)\n",
      "Radius:  4.999999914395622\n"
     ]
    },
    {
     "data": {
      "text/plain": [
       "<matplotlib.image.AxesImage at 0x168ef9970>"
      ]
     },
     "execution_count": 45,
     "metadata": {},
     "output_type": "execute_result"
    },
    {
     "data": {
      "image/png": "[encoded data removed]",
      "text/plain": [
       "<Figure size 640x480 with 1 Axes>"
      ]
     },
     "metadata": {},
     "output_type": "display_data"
    }
   ],
   "source": [
    "obj_desc = {\n",
    "    'name': 'MultiPolygons',\n",
    "    'poly_vertices_l': [[[-0.2583535923246873, -3.247873787392744],\n",
    "  [-0.2583535923246873, 3.247873787392744],\n",
    "  [-2.6942588844721547, 3.247873787392744],\n",
    "  [-2.6942588844721547, -3.247873787392744]],\n",
    " [[3.8014884967249705, -3.247873787392744],\n",
    "  [3.8014884967249705, -1.623936893696372],\n",
    "  [-0.2583535923246873, -1.623936893696372],\n",
    "  [-0.2583535923246873, -3.247873787392744]],\n",
    " [[3.8014884967249705, 1.623936893696372],\n",
    "  [3.8014884967249705, 3.247873787392744],\n",
    "  [-0.2583535923246873, 3.247873787392744],\n",
    "  [-0.2583535923246873, 1.623936893696372]]]\n",
    "}\n",
    "world_config.object_l = [obj_desc]\n",
    "world = TransportationWorld(world_config)\n",
    "print('Radius: ', world.obj.obj_radius)\n",
    "screen =  255 * np.ones(shape=(world.screen_height, world.screen_width, 3), dtype=np.uint8)\n",
    "world.obj.DrawInPose([25,25], 0, world.pixels_per_meter, screen, (0, 255, 0), 2)\n",
    "plt.imshow(screen)"
   ]
  },
  {
   "cell_type": "code",
   "execution_count": null,
   "id": "4a2d8d45-649d-481c-9d8e-035e23e1a13c",
   "metadata": {},
   "outputs": [],
   "source": []
  }
 ],
 "metadata": {
  "kernelspec": {
   "display_name": "Python 3 (ipykernel)",
   "language": "python",
   "name": "python3"
  },
  "language_info": {
   "codemirror_mode": {
    "name": "ipython",
    "version": 3
   },
   "file_extension": ".py",
   "mimetype": "text/x-python",
   "name": "python",
   "nbconvert_exporter": "python",
   "pygments_lexer": "ipython3",
   "version": "3.9.18"
  }
 },
 "nbformat": 4,
 "nbformat_minor": 5
}

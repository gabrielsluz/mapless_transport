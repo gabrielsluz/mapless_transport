{
 "cells": [
  {
   "cell_type": "markdown",
   "id": "55345128-e8ee-4d4c-8c6e-c7c0a031fca1",
   "metadata": {},
   "source": [
    "# Objects\n",
    "- Considering a robot that is a 1 meter circle.\n",
    "- 3 objects: rectangle, triangle, L\n",
    "- All with obj_radius = 5 m\n"
   ]
  },
  {
   "cell_type": "markdown",
   "id": "f7822318-dc07-4bd7-ad88-db473c03d727",
   "metadata": {},
   "source": [
    "## Final Objects:"
   ]
  },
  {
   "cell_type": "code",
   "execution_count": 108,
   "id": "fb100139-2ed7-4b5a-96ad-4e5812b4332e",
   "metadata": {},
   "outputs": [],
   "source": [
    "object_desc_dict = {\n",
    "    0: {\n",
    "        'name': 'MultiPolygons',\n",
    "        'poly_vertices_l': [\n",
    "            [[2.23606797749979, -4.47213595499958],\n",
    "            [2.23606797749979, 4.47213595499958],\n",
    "            [-2.23606797749979, 4.47213595499958],\n",
    "            [-2.23606797749979, -4.47213595499958]]\n",
    "        ]\n",
    "    },\n",
    "    1: {\n",
    "        'name': 'MultiPolygons',\n",
    "        'poly_vertices_l': [\n",
    "            [[3.75, -2.5],\n",
    "            [0.0, 5.0],\n",
    "            [-3.75, -2.5]]\n",
    "        ]\n",
    "    },\n",
    "    2: {\n",
    "        'name': 'MultiPolygons',\n",
    "        'poly_vertices_l': [\n",
    "            [[-0.03305392443269466, -2.6112598540991714],\n",
    "            [-0.03305392443269466, 4.2639559668821585],\n",
    "            [-2.6112598540991714, 4.2639559668821585],\n",
    "            [-2.6112598540991714, -2.6112598540991714]],\n",
    "            [[4.2639559668821585, -2.6112598540991714],\n",
    "            [4.2639559668821585, -0.03305392443269466],\n",
    "            [-0.03305392443269466, -0.03305392443269466],\n",
    "            [-0.03305392443269466, -2.6112598540991714]]\n",
    "        ]\n",
    "    },\n",
    "    3: {\n",
    "        'name': 'MultiPolygons',\n",
    "        'poly_vertices_l': [\n",
    "            [[-0.2583535923246873, -3.247873787392744],\n",
    "            [-0.2583535923246873, 3.247873787392744],\n",
    "            [-2.6942588844721547, 3.247873787392744],\n",
    "            [-2.6942588844721547, -3.247873787392744]],\n",
    "            [[3.8014884967249705, -3.247873787392744],\n",
    "            [3.8014884967249705, -1.623936893696372],\n",
    "            [-0.2583535923246873, -1.623936893696372],\n",
    "            [-0.2583535923246873, -3.247873787392744]],\n",
    "            [[3.8014884967249705, 1.623936893696372],\n",
    "            [3.8014884967249705, 3.247873787392744],\n",
    "            [-0.2583535923246873, 3.247873787392744],\n",
    "            [-0.2583535923246873, 1.623936893696372]]\n",
    "        ]\n",
    "    },\n",
    "    4: {\n",
    "        'name': 'MultiPolygons',\n",
    "        'poly_vertices_l':[\n",
    "            [[2.5, 0.0], [0.0, 5.0], [-2.5, 0.0], [0.0, -5.0]]\n",
    "        ]\n",
    "    },\n",
    "    5: {\n",
    "        'name': 'MultiPolygons', \n",
    "        'poly_vertices_l':[\n",
    "            [[4.47213595499958, 0.0],\n",
    "             [2.23606797749979, 4.47213595499958],\n",
    "             [-2.23606797749979, 4.47213595499958],\n",
    "             [-4.47213595499958, 0.0],\n",
    "             [-2.23606797749979, -4.47213595499958],\n",
    "             [2.23606797749979, -4.47213595499958]]\n",
    "        ]\n",
    "    },\n",
    "    6: {\n",
    "        'name': 'MultiPolygons', \n",
    "        'poly_vertices_l':[\n",
    "            [[2.763157894736842, 0.5263157992770797],\n",
    "             [1.381578947368421, 3.2894736528396606],\n",
    "             [-1.381578947368421, 3.2894736528396606],\n",
    "             [-2.763157894736842, 0.5263157992770797],\n",
    "             [0.0, -5.000000031370866]]\n",
    "        ]\n",
    "    },\n",
    "    7: {\n",
    "        'name': 'MultiPolygons', \n",
    "        'poly_vertices_l':[\n",
    "            [[2.924164363491274, 0.20886887697066717],\n",
    "             [2.924164363491274, 1.6500641323633674],\n",
    "             [1.482969065147607, 3.0912594307070345],\n",
    "             [0.04177377754168178, 3.0912594307070345],\n",
    "             [0.04177377754168178, 0.20886887697066717]],\n",
    "            [[0.04177377754168178, 0.20886887697066717],\n",
    "             [0.04177377754168178, 1.6500641323633674],\n",
    "             [-4.281812128227061, 1.6500641323633674],\n",
    "             [-4.281812128227061, 0.20886887697066717]],\n",
    "            [[0.04177377754168178, -2.673521762667634],\n",
    "             [0.04177377754168178, 0.20886887697066717],\n",
    "             [-2.8406168298833943, -4.114717061011301]],\n",
    "            [[2.924164363491274, -2.673521762667634],\n",
    "             [0.04177377754168178, 0.20886887697066717],\n",
    "             [0.04177377754168178, -2.673521762667634]],\n",
    "            [[2.924164363491274, 0.20886887697066717],\n",
    "             [0.04177377754168178, 0.20886887697066717],\n",
    "             [1.482969065147607, -1.232326378422033]]]\n",
    "    },\n",
    "    8: {\n",
    "        'name': 'MultiPolygons', \n",
    "        'poly_vertices_l':[\n",
    "            [[4.47213595499958, 2.23606797749979],\n",
    "             [0.0, 2.23606797749979],\n",
    "             [0.0, 0.0],\n",
    "             [2.23606797749979, 0.0]],\n",
    "            [[2.23606797749979, 2.23606797749979],\n",
    "             [0.0, 4.47213595499958],\n",
    "             [0.0, 2.23606797749979]],\n",
    "            [[0.0, 0.0],\n",
    "             [0.0, 2.23606797749979],\n",
    "             [-4.47213595499958, 2.23606797749979],\n",
    "             [-2.23606797749979, 0.0]],\n",
    "            [[0.0, 2.23606797749979],\n",
    "             [0.0, 4.47213595499958],\n",
    "             [-2.23606797749979, 2.23606797749979]],\n",
    "            [[4.47213595499958, -2.23606797749979],\n",
    "             [2.23606797749979, 0.0],\n",
    "             [0.0, 0.0],\n",
    "             [0.0, -2.23606797749979]],\n",
    "            [[2.23606797749979, -2.23606797749979],\n",
    "             [0.0, -2.23606797749979],\n",
    "             [0.0, -4.47213595499958]],\n",
    "            [[0.0, -2.23606797749979],\n",
    "             [0.0, 0.0],\n",
    "             [-2.23606797749979, 0.0],\n",
    "             [-4.47213595499958, -2.23606797749979]],\n",
    "            [[0.0, -4.47213595499958],\n",
    "             [0.0, -2.23606797749979],\n",
    "             [-2.23606797749979, -2.23606797749979]]]\n",
    "    },\n",
    "    9: {\n",
    "        'name': 'MultiPolygons',\n",
    "        'poly_vertices_l':[\n",
    "            [[1.1998413537803752, -4.853903606463432],\n",
    "             [1.1998413537803752, 3.544985869999194],\n",
    "             [-1.1998413537803752, 3.544985869999194],\n",
    "             [-1.1998413537803752, -4.853903606463432]],\n",
    "            [[3.5995240613411257, -0.054538244979019726],\n",
    "             [3.5995240613411257, 2.3451445162188187],\n",
    "             [1.1998413537803752, 2.3451445162188187],\n",
    "             [1.1998413537803752, -0.054538244979019726]],\n",
    "            [[-1.1998413537803752, -0.054538244979019726],\n",
    "             [-1.1998413537803752, 2.3451445162188187],\n",
    "             [-3.5995240613411257, 2.3451445162188187],\n",
    "             [-3.5995240613411257, -0.054538244979019726]]]\n",
    "    },\n",
    "}"
   ]
  },
  {
   "cell_type": "code",
   "execution_count": 57,
   "id": "ef0d645d-d626-41f5-b326-19140ebfbb47",
   "metadata": {},
   "outputs": [],
   "source": [
    "import sys\n",
    "sys.path.append('../.')\n",
    "\n",
    "import numpy as np\n",
    "import math\n",
    "import matplotlib.pyplot as plt\n",
    "\n",
    "from research_envs.b2PushWorld.TransportationPoseWorld import TransportationWorld, TransportationWorldConfig\n",
    "from research_envs.b2PushWorld.Object import MultiPolygonsObj"
   ]
  },
  {
   "cell_type": "code",
   "execution_count": 109,
   "id": "367fad22-16a4-4092-9dcb-dbb1e8623217",
   "metadata": {},
   "outputs": [],
   "source": [
    "world_config= TransportationWorldConfig(\n",
    "    obstacle_l = [],\n",
    "    object_l=[\n",
    "        {'name':'Circle', 'radius':5.0},\n",
    "    ],\n",
    "    n_rays = 0,\n",
    "    agent_type = 'continuous',\n",
    "    max_force_length=1.0,\n",
    "    min_force_length=0.0,\n",
    "    goal_tolerance={'pos':2, 'angle':np.pi/18},\n",
    "    max_obj_dist=10.0,\n",
    ")"
   ]
  },
  {
   "cell_type": "code",
   "execution_count": 123,
   "id": "324554cc-76b0-4f37-80d6-fe6a6b938f19",
   "metadata": {},
   "outputs": [
    {
     "name": "stdout",
     "output_type": "stream",
     "text": [
      "CoM: b2Vec2(0,0)\n",
      "CoM: b2Vec2(0,0)\n",
      "CoM: b2Vec2(0,0)\n",
      "CoM: b2Vec2(0,-6.57505e-08)\n",
      "CoM: b2Vec2(0,0)\n",
      "CoM: b2Vec2(7.94729e-08,1.58946e-08)\n",
      "CoM: b2Vec2(8.86318e-18,5.96046e-08)\n",
      "CoM: b2Vec2(-7.98521e-08,-3.99261e-08)\n",
      "CoM: b2Vec2(0,0)\n",
      "CoM: b2Vec2(0,-6.02226e-08)\n"
     ]
    },
    {
     "data": {
      "image/png": "[encoded data removed]",
      "text/plain": [
       "<Figure size 640x480 with 1 Axes>"
      ]
     },
     "metadata": {},
     "output_type": "display_data"
    }
   ],
   "source": [
    "world_config.object_l = [object_desc_dict[key] for key in object_desc_dict.keys()]\n",
    "world = TransportationWorld(world_config)\n",
    "\n",
    "# 2x5 \n",
    "n = len(world.obj_l)\n",
    "obj_radius = 6\n",
    "\n",
    "obj_per_row = 5\n",
    "n_rows = 2\n",
    "h = 2 * obj_radius * obj_per_row\n",
    "h = int(h * world.pixels_per_meter)\n",
    "w = 2 * obj_radius * n_rows\n",
    "w = int(w * world.pixels_per_meter)\n",
    "screen =  255 * np.ones(shape=(w, h, 3), dtype=np.uint8)\n",
    "\n",
    "# for i in range(n):\n",
    "#     x = i % obj_per_row\n",
    "#     y = i // obj_per_row\n",
    "#     x = x * 2 * obj_radius + obj_radius\n",
    "#     y = y * 2 * obj_radius + obj_radius\n",
    "#     world.obj_l[i].DrawInPose([x, y], 0, world.pixels_per_meter, screen, (255, 99, 82), 2)\n",
    "\n",
    "# First row\n",
    "y = 2 * obj_radius + obj_radius\n",
    "for i in range(5):\n",
    "    x = i % obj_per_row\n",
    "    # y = i // obj_per_row\n",
    "    x = x * 2 * obj_radius + obj_radius\n",
    "    # y = y * 2 * obj_radius + obj_radius\n",
    "    world.obj_l[i].DrawInPose([x, y], 0, world.pixels_per_meter, screen, (255, 99, 82), 2)\n",
    "\n",
    "# Second row\n",
    "y = obj_radius\n",
    "for i in range(5, n):\n",
    "    x = i % obj_per_row\n",
    "    # y = i // obj_per_row\n",
    "    x = x * 2 * obj_radius + obj_radius\n",
    "    # y = y * 2 * obj_radius + obj_radius\n",
    "    world.obj_l[i].DrawInPose([x, y], 0, world.pixels_per_meter, screen, (255, 99, 82), 2)\n",
    "    \n",
    "# Flip y-axis\n",
    "aux_screen = np.ones(shape=screen.shape, dtype=np.uint8)\n",
    "for i in range(screen.shape[0]):\n",
    "    aux_screen[i] = screen[-i-1]\n",
    "\n",
    "plt.axis('off')\n",
    "plt.imshow(aux_screen)\n",
    "plt.savefig('ConditionedCapsule/images/objects.png',bbox_inches='tight')"
   ]
  },
  {
   "cell_type": "markdown",
   "id": "1f4e7630-1889-449a-af79-7d5e880c52be",
   "metadata": {},
   "source": [
    "## 1- Rectangle\n",
    "\n",
    "2x1 rectangle => normalized such that its radius is 5."
   ]
  },
  {
   "cell_type": "code",
   "execution_count": 12,
   "id": "a41810d5-8f0e-4267-932a-57efcf945b27",
   "metadata": {},
   "outputs": [
    {
     "name": "stdout",
     "output_type": "stream",
     "text": [
      "CoM: b2Vec2(0,0)\n"
     ]
    }
   ],
   "source": [
    "obj_desc = {\n",
    "    'name': 'MultiPolygons',\n",
    "    'poly_vertices_l': [\n",
    "        [[0, 10], [0,0], [5, 0], [5, 10]]\n",
    "    ]\n",
    "}\n",
    "world_config.object_l = [obj_desc]\n",
    "world = TransportationWorld(world_config)"
   ]
  },
  {
   "cell_type": "code",
   "execution_count": 22,
   "id": "8d0c8b8e-d204-442e-a024-99bd0fef127d",
   "metadata": {},
   "outputs": [
    {
     "data": {
      "text/plain": [
       "<matplotlib.image.AxesImage at 0x168a7ac10>"
      ]
     },
     "execution_count": 22,
     "metadata": {},
     "output_type": "execute_result"
    },
    {
     "data": {
      "image/png": "[encoded data removed]",
      "text/plain": [
       "<Figure size 640x480 with 1 Axes>"
      ]
     },
     "metadata": {},
     "output_type": "display_data"
    }
   ],
   "source": [
    "screen =  255 * np.ones(shape=(world.screen_height, world.screen_width, 3), dtype=np.uint8)\n",
    "world.obj.DrawInPose([25,25], 0, world.pixels_per_meter, screen, (0, 255, 0), 2)\n",
    "plt.imshow(screen)"
   ]
  },
  {
   "cell_type": "code",
   "execution_count": 28,
   "id": "728f2cf6-2fc5-4bc4-acdf-36d2e5016721",
   "metadata": {},
   "outputs": [
    {
     "name": "stdout",
     "output_type": "stream",
     "text": [
      "Radius:  5.5901699437494745\n",
      "Scale:  0.8944271909999159\n"
     ]
    }
   ],
   "source": [
    "s = 5.0 / world.obj.obj_radius\n",
    "print('Radius: ', world.obj.obj_radius)\n",
    "print('Scale: ', s)"
   ]
  },
  {
   "cell_type": "code",
   "execution_count": 25,
   "id": "a1402f99-ce3d-4f99-978f-8ccac1784d26",
   "metadata": {},
   "outputs": [
    {
     "name": "stdout",
     "output_type": "stream",
     "text": [
      "[(2.5, -5.0), (2.5, 5.0), (-2.5, 5.0), (-2.5, -5.0)]\n"
     ]
    }
   ],
   "source": [
    "body = world.obj.obj_rigid_body\n",
    "for f_i in range(len(body.fixtures)):\n",
    "    print(body.fixtures[f_i].shape.vertices)"
   ]
  },
  {
   "cell_type": "code",
   "execution_count": 29,
   "id": "20beb22b-a29d-4789-ad19-5f75a001f8b5",
   "metadata": {},
   "outputs": [],
   "source": [
    "final_vertices_l = []\n",
    "body = world.obj.obj_rigid_body\n",
    "for f_i in range(len(body.fixtures)):\n",
    "    final_vertices_l.append(\n",
    "        [[v[0]*s, v[1]*s] for v in body.fixtures[f_i].shape.vertices]\n",
    "    )"
   ]
  },
  {
   "cell_type": "code",
   "execution_count": 30,
   "id": "1c903b3c-7dc7-4a9a-9fd7-bbf232b0fe46",
   "metadata": {},
   "outputs": [
    {
     "data": {
      "text/plain": [
       "[[[2.23606797749979, -4.47213595499958],\n",
       "  [2.23606797749979, 4.47213595499958],\n",
       "  [-2.23606797749979, 4.47213595499958],\n",
       "  [-2.23606797749979, -4.47213595499958]]]"
      ]
     },
     "execution_count": 30,
     "metadata": {},
     "output_type": "execute_result"
    }
   ],
   "source": [
    "final_vertices_l"
   ]
  },
  {
   "cell_type": "code",
   "execution_count": 31,
   "id": "3afea573-6aad-4b21-a0c8-4d374862354c",
   "metadata": {},
   "outputs": [
    {
     "name": "stdout",
     "output_type": "stream",
     "text": [
      "CoM: b2Vec2(0,0)\n",
      "Radius:  5.0\n"
     ]
    }
   ],
   "source": [
    "obj_desc = {\n",
    "    'name': 'MultiPolygons',\n",
    "    'poly_vertices_l': final_vertices_l\n",
    "}\n",
    "world_config.object_l = [obj_desc]\n",
    "world = TransportationWorld(world_config)\n",
    "print('Radius: ', world.obj.obj_radius)"
   ]
  },
  {
   "cell_type": "markdown",
   "id": "73eee3c9-4515-4246-82a7-348689fbd743",
   "metadata": {},
   "source": [
    "## Triangle\n"
   ]
  },
  {
   "cell_type": "code",
   "execution_count": 34,
   "id": "e50fc921-cdce-47a2-95f1-7d13beb94d92",
   "metadata": {},
   "outputs": [
    {
     "name": "stdout",
     "output_type": "stream",
     "text": [
      "CoM: b2Vec2(0,0)\n",
      "Radius:  5.333333333333333\n"
     ]
    },
    {
     "data": {
      "text/plain": [
       "<matplotlib.image.AxesImage at 0x168c59fa0>"
      ]
     },
     "execution_count": 34,
     "metadata": {},
     "output_type": "execute_result"
    },
    {
     "data": {
      "image/png": "[encoded data removed]",
      "text/plain": [
       "<Figure size 640x480 with 1 Axes>"
      ]
     },
     "metadata": {},
     "output_type": "display_data"
    }
   ],
   "source": [
    "obj_desc = {\n",
    "    'name': 'MultiPolygons',\n",
    "    'poly_vertices_l': [\n",
    "        [[-4, -2], [4, -2], [0, 6]]\n",
    "    ]\n",
    "}\n",
    "world_config.object_l = [obj_desc]\n",
    "world = TransportationWorld(world_config)\n",
    "print('Radius: ', world.obj.obj_radius)\n",
    "screen =  255 * np.ones(shape=(world.screen_height, world.screen_width, 3), dtype=np.uint8)\n",
    "world.obj.DrawInPose([25,25], 0, world.pixels_per_meter, screen, (0, 255, 0), 2)\n",
    "plt.imshow(screen)"
   ]
  },
  {
   "cell_type": "code",
   "execution_count": 35,
   "id": "1fcca9fa-1360-4d15-9b3e-dba09e2dbf7d",
   "metadata": {},
   "outputs": [
    {
     "name": "stdout",
     "output_type": "stream",
     "text": [
      "Radius:  5.333333333333333\n",
      "Scale:  0.9375\n"
     ]
    },
    {
     "data": {
      "text/plain": [
       "[[[3.75, -2.500000074505806],\n",
       "  [0.0, 5.000000149011612],\n",
       "  [-3.75, -2.500000074505806]]]"
      ]
     },
     "execution_count": 35,
     "metadata": {},
     "output_type": "execute_result"
    }
   ],
   "source": [
    "s = 5.0 / world.obj.obj_radius\n",
    "print('Radius: ', world.obj.obj_radius)\n",
    "print('Scale: ', s)\n",
    "\n",
    "final_vertices_l = []\n",
    "body = world.obj.obj_rigid_body\n",
    "for f_i in range(len(body.fixtures)):\n",
    "    final_vertices_l.append(\n",
    "        [[v[0]*s, v[1]*s] for v in body.fixtures[f_i].shape.vertices]\n",
    "    )\n",
    "final_vertices_l"
   ]
  },
  {
   "cell_type": "code",
   "execution_count": 38,
   "id": "b515393c-29e7-45a3-94ee-137481c60095",
   "metadata": {},
   "outputs": [
    {
     "name": "stdout",
     "output_type": "stream",
     "text": [
      "CoM: b2Vec2(0,0)\n",
      "Radius:  5.0\n"
     ]
    },
    {
     "data": {
      "text/plain": [
       "<matplotlib.image.AxesImage at 0x168ce00a0>"
      ]
     },
     "execution_count": 38,
     "metadata": {},
     "output_type": "execute_result"
    },
    {
     "data": {
      "image/png": "[encoded data removed]",
      "text/plain": [
       "<Figure size 640x480 with 1 Axes>"
      ]
     },
     "metadata": {},
     "output_type": "display_data"
    }
   ],
   "source": [
    "obj_desc = {\n",
    "    'name': 'MultiPolygons',\n",
    "    'poly_vertices_l': [\n",
    "        [[3.75, -2.5],\n",
    "         [0.0, 5.0],\n",
    "         [-3.75, -2.5]]\n",
    "    ]\n",
    "}\n",
    "world_config.object_l = [obj_desc]\n",
    "world = TransportationWorld(world_config)\n",
    "print('Radius: ', world.obj.obj_radius)\n",
    "screen =  255 * np.ones(shape=(world.screen_height, world.screen_width, 3), dtype=np.uint8)\n",
    "world.obj.DrawInPose([25,25], 0, world.pixels_per_meter, screen, (0, 255, 0), 2)\n",
    "plt.imshow(screen)"
   ]
  },
  {
   "cell_type": "markdown",
   "id": "70609910-a642-49a6-8f04-1cbacf5cb9f0",
   "metadata": {},
   "source": [
    "## L"
   ]
  },
  {
   "cell_type": "code",
   "execution_count": 39,
   "id": "2f669391-b6ee-4cdd-9f1b-5c5208dfaf7c",
   "metadata": {},
   "outputs": [
    {
     "name": "stdout",
     "output_type": "stream",
     "text": [
      "CoM: b2Vec2(0,4.89064e-08)\n",
      "Radius:  5.817999005331258\n"
     ]
    },
    {
     "data": {
      "text/plain": [
       "<matplotlib.image.AxesImage at 0x168d22b50>"
      ]
     },
     "execution_count": 39,
     "metadata": {},
     "output_type": "execute_result"
    },
    {
     "data": {
      "image/png": "[encoded data removed]",
      "text/plain": [
       "<Figure size 640x480 with 1 Axes>"
      ]
     },
     "metadata": {},
     "output_type": "display_data"
    }
   ],
   "source": [
    "obj_desc = {\n",
    "    'name': 'MultiPolygons',\n",
    "    'poly_vertices_l': [\n",
    "        [[0, 8], [0, 0], [3, 0], [3, 8]],\n",
    "        [[3, 3], [3, 0], [8, 0], [8, 3]]\n",
    "    ]\n",
    "}\n",
    "world_config.object_l = [obj_desc]\n",
    "world = TransportationWorld(world_config)\n",
    "print('Radius: ', world.obj.obj_radius)\n",
    "screen =  255 * np.ones(shape=(world.screen_height, world.screen_width, 3), dtype=np.uint8)\n",
    "world.obj.DrawInPose([25,25], 0, world.pixels_per_meter, screen, (0, 255, 0), 2)\n",
    "plt.imshow(screen)"
   ]
  },
  {
   "cell_type": "code",
   "execution_count": 40,
   "id": "6e76b9df-4a57-4977-88a7-d067e40e2486",
   "metadata": {},
   "outputs": [
    {
     "name": "stdout",
     "output_type": "stream",
     "text": [
      "Radius:  5.817999005331258\n",
      "Scale:  0.8594020032348418\n"
     ]
    },
    {
     "data": {
      "text/plain": [
       "[[[-0.03305392443269466, -2.6112598540991714],\n",
       "  [-0.03305392443269466, 4.2639559668821585],\n",
       "  [-2.6112598540991714, 4.2639559668821585],\n",
       "  [-2.6112598540991714, -2.6112598540991714]],\n",
       " [[4.2639559668821585, -2.6112598540991714],\n",
       "  [4.2639559668821585, -0.03305392443269466],\n",
       "  [-0.03305392443269466, -0.03305392443269466],\n",
       "  [-0.03305392443269466, -2.6112598540991714]]]"
      ]
     },
     "execution_count": 40,
     "metadata": {},
     "output_type": "execute_result"
    }
   ],
   "source": [
    "s = 5.0 / world.obj.obj_radius\n",
    "print('Radius: ', world.obj.obj_radius)\n",
    "print('Scale: ', s)\n",
    "\n",
    "final_vertices_l = []\n",
    "body = world.obj.obj_rigid_body\n",
    "for f_i in range(len(body.fixtures)):\n",
    "    final_vertices_l.append(\n",
    "        [[v[0]*s, v[1]*s] for v in body.fixtures[f_i].shape.vertices]\n",
    "    )\n",
    "final_vertices_l"
   ]
  },
  {
   "cell_type": "code",
   "execution_count": 41,
   "id": "86bcdb20-fb82-4a0b-a05f-31f78c41a566",
   "metadata": {},
   "outputs": [
    {
     "name": "stdout",
     "output_type": "stream",
     "text": [
      "CoM: b2Vec2(0,0)\n",
      "Radius:  4.999999851317127\n"
     ]
    },
    {
     "data": {
      "text/plain": [
       "<matplotlib.image.AxesImage at 0x168d89ca0>"
      ]
     },
     "execution_count": 41,
     "metadata": {},
     "output_type": "execute_result"
    },
    {
     "data": {
      "image/png": "[encoded data removed]",
      "text/plain": [
       "<Figure size 640x480 with 1 Axes>"
      ]
     },
     "metadata": {},
     "output_type": "display_data"
    }
   ],
   "source": [
    "obj_desc = {\n",
    "    'name': 'MultiPolygons',\n",
    "    'poly_vertices_l': [[[-0.03305392443269466, -2.6112598540991714],\n",
    "  [-0.03305392443269466, 4.2639559668821585],\n",
    "  [-2.6112598540991714, 4.2639559668821585],\n",
    "  [-2.6112598540991714, -2.6112598540991714]],\n",
    " [[4.2639559668821585, -2.6112598540991714],\n",
    "  [4.2639559668821585, -0.03305392443269466],\n",
    "  [-0.03305392443269466, -0.03305392443269466],\n",
    "  [-0.03305392443269466, -2.6112598540991714]]]\n",
    "}\n",
    "world_config.object_l = [obj_desc]\n",
    "world = TransportationWorld(world_config)\n",
    "print('Radius: ', world.obj.obj_radius)\n",
    "screen =  255 * np.ones(shape=(world.screen_height, world.screen_width, 3), dtype=np.uint8)\n",
    "world.obj.DrawInPose([25,25], 0, world.pixels_per_meter, screen, (0, 255, 0), 2)\n",
    "plt.imshow(screen)"
   ]
  },
  {
   "cell_type": "markdown",
   "id": "3f3bae3e-89d3-4fbc-897e-178c4de8c689",
   "metadata": {},
   "source": [
    "# U"
   ]
  },
  {
   "cell_type": "code",
   "execution_count": 43,
   "id": "e6a0489c-0906-418f-a1a2-3a62e7edb08d",
   "metadata": {},
   "outputs": [
    {
     "name": "stdout",
     "output_type": "stream",
     "text": [
      "CoM: b2Vec2(0,0)\n",
      "Radius:  6.157874754134197\n"
     ]
    },
    {
     "data": {
      "text/plain": [
       "<matplotlib.image.AxesImage at 0x168e69d00>"
      ]
     },
     "execution_count": 43,
     "metadata": {},
     "output_type": "execute_result"
    },
    {
     "data": {
      "image/png": "[encoded data removed]",
      "text/plain": [
       "<Figure size 640x480 with 1 Axes>"
      ]
     },
     "metadata": {},
     "output_type": "display_data"
    }
   ],
   "source": [
    "obj_desc = {\n",
    "    'name': 'MultiPolygons',\n",
    "    'poly_vertices_l': [\n",
    "        [[0, 8], [0, 0], [3, 0], [3, 8]],\n",
    "        [[3, 2], [3, 0], [8, 0], [8, 2]],\n",
    "        [[3, 8], [3, 6], [8, 6], [8, 8]]\n",
    "    ]\n",
    "}\n",
    "world_config.object_l = [obj_desc]\n",
    "world = TransportationWorld(world_config)\n",
    "print('Radius: ', world.obj.obj_radius)\n",
    "screen =  255 * np.ones(shape=(world.screen_height, world.screen_width, 3), dtype=np.uint8)\n",
    "world.obj.DrawInPose([25,25], 0, world.pixels_per_meter, screen, (0, 255, 0), 2)\n",
    "plt.imshow(screen)"
   ]
  },
  {
   "cell_type": "code",
   "execution_count": 44,
   "id": "23de019a-fd4e-4e49-84f8-bd96859068f1",
   "metadata": {},
   "outputs": [
    {
     "name": "stdout",
     "output_type": "stream",
     "text": [
      "Radius:  6.157874754134197\n",
      "Scale:  0.811968446848186\n"
     ]
    },
    {
     "data": {
      "text/plain": [
       "[[[-0.2583535923246873, -3.247873787392744],\n",
       "  [-0.2583535923246873, 3.247873787392744],\n",
       "  [-2.6942588844721547, 3.247873787392744],\n",
       "  [-2.6942588844721547, -3.247873787392744]],\n",
       " [[3.8014884967249705, -3.247873787392744],\n",
       "  [3.8014884967249705, -1.623936893696372],\n",
       "  [-0.2583535923246873, -1.623936893696372],\n",
       "  [-0.2583535923246873, -3.247873787392744]],\n",
       " [[3.8014884967249705, 1.623936893696372],\n",
       "  [3.8014884967249705, 3.247873787392744],\n",
       "  [-0.2583535923246873, 3.247873787392744],\n",
       "  [-0.2583535923246873, 1.623936893696372]]]"
      ]
     },
     "execution_count": 44,
     "metadata": {},
     "output_type": "execute_result"
    }
   ],
   "source": [
    "s = 5.0 / world.obj.obj_radius\n",
    "print('Radius: ', world.obj.obj_radius)\n",
    "print('Scale: ', s)\n",
    "\n",
    "final_vertices_l = []\n",
    "body = world.obj.obj_rigid_body\n",
    "for f_i in range(len(body.fixtures)):\n",
    "    final_vertices_l.append(\n",
    "        [[v[0]*s, v[1]*s] for v in body.fixtures[f_i].shape.vertices]\n",
    "    )\n",
    "final_vertices_l"
   ]
  },
  {
   "cell_type": "code",
   "execution_count": 45,
   "id": "15e3e8ed-faa4-4033-9163-55e3ebda6544",
   "metadata": {},
   "outputs": [
    {
     "name": "stdout",
     "output_type": "stream",
     "text": [
      "CoM: b2Vec2(0,-6.57505e-08)\n",
      "Radius:  4.999999914395622\n"
     ]
    },
    {
     "data": {
      "text/plain": [
       "<matplotlib.image.AxesImage at 0x168ef9970>"
      ]
     },
     "execution_count": 45,
     "metadata": {},
     "output_type": "execute_result"
    },
    {
     "data": {
      "image/png": "[encoded data removed]",
      "text/plain": [
       "<Figure size 640x480 with 1 Axes>"
      ]
     },
     "metadata": {},
     "output_type": "display_data"
    }
   ],
   "source": [
    "obj_desc = {\n",
    "    'name': 'MultiPolygons',\n",
    "    'poly_vertices_l': [[[-0.2583535923246873, -3.247873787392744],\n",
    "  [-0.2583535923246873, 3.247873787392744],\n",
    "  [-2.6942588844721547, 3.247873787392744],\n",
    "  [-2.6942588844721547, -3.247873787392744]],\n",
    " [[3.8014884967249705, -3.247873787392744],\n",
    "  [3.8014884967249705, -1.623936893696372],\n",
    "  [-0.2583535923246873, -1.623936893696372],\n",
    "  [-0.2583535923246873, -3.247873787392744]],\n",
    " [[3.8014884967249705, 1.623936893696372],\n",
    "  [3.8014884967249705, 3.247873787392744],\n",
    "  [-0.2583535923246873, 3.247873787392744],\n",
    "  [-0.2583535923246873, 1.623936893696372]]]\n",
    "}\n",
    "world_config.object_l = [obj_desc]\n",
    "world = TransportationWorld(world_config)\n",
    "print('Radius: ', world.obj.obj_radius)\n",
    "screen =  255 * np.ones(shape=(world.screen_height, world.screen_width, 3), dtype=np.uint8)\n",
    "world.obj.DrawInPose([25,25], 0, world.pixels_per_meter, screen, (0, 255, 0), 2)\n",
    "plt.imshow(screen)"
   ]
  },
  {
   "cell_type": "markdown",
   "id": "6011002f-304f-49f7-80e5-a0fcf96f8123",
   "metadata": {},
   "source": [
    "# Losango"
   ]
  },
  {
   "cell_type": "code",
   "execution_count": 78,
   "id": "2a56c981-16e5-4b5b-8b74-d862b60beb39",
   "metadata": {},
   "outputs": [
    {
     "name": "stdout",
     "output_type": "stream",
     "text": [
      "CoM: b2Vec2(0,0)\n",
      "Radius:  2.0\n",
      "Radius:  2.0\n",
      "Scale:  2.5\n"
     ]
    },
    {
     "data": {
      "text/plain": [
       "[[[2.5, 0.0], [0.0, 5.0], [-2.5, 0.0], [0.0, -5.0]]]"
      ]
     },
     "execution_count": 78,
     "metadata": {},
     "output_type": "execute_result"
    },
    {
     "data": {
      "image/png": "[encoded data removed]",
      "text/plain": [
       "<Figure size 640x480 with 1 Axes>"
      ]
     },
     "metadata": {},
     "output_type": "display_data"
    }
   ],
   "source": [
    "obj_desc = {\n",
    "    'name': 'MultiPolygons',\n",
    "    'poly_vertices_l': [\n",
    "        [[0, 0], [1, -2], [2, 0], [1, 2]]\n",
    "    ]\n",
    "}\n",
    "world_config.object_l = [obj_desc]\n",
    "world = TransportationWorld(world_config)\n",
    "print('Radius: ', world.obj.obj_radius)\n",
    "screen =  255 * np.ones(shape=(world.screen_height, world.screen_width, 3), dtype=np.uint8)\n",
    "world.obj.DrawInPose([25,25], 0, world.pixels_per_meter, screen, (0, 255, 0), 2)\n",
    "plt.imshow(screen)\n",
    "\n",
    "s = 5.0 / world.obj.obj_radius\n",
    "print('Radius: ', world.obj.obj_radius)\n",
    "print('Scale: ', s)\n",
    "\n",
    "final_vertices_l = []\n",
    "body = world.obj.obj_rigid_body\n",
    "for f_i in range(len(body.fixtures)):\n",
    "    final_vertices_l.append(\n",
    "        [[v[0]*s, v[1]*s] for v in body.fixtures[f_i].shape.vertices]\n",
    "    )\n",
    "final_vertices_l"
   ]
  },
  {
   "cell_type": "code",
   "execution_count": 79,
   "id": "16ede164-3a2a-4042-82b8-218ef427baf8",
   "metadata": {},
   "outputs": [
    {
     "name": "stdout",
     "output_type": "stream",
     "text": [
      "CoM: b2Vec2(0,0)\n",
      "Radius:  5.0\n"
     ]
    },
    {
     "data": {
      "text/plain": [
       "<matplotlib.image.AxesImage at 0x169ca09d0>"
      ]
     },
     "execution_count": 79,
     "metadata": {},
     "output_type": "execute_result"
    },
    {
     "data": {
      "image/png": "[encoded data removed]",
      "text/plain": [
       "<Figure size 640x480 with 1 Axes>"
      ]
     },
     "metadata": {},
     "output_type": "display_data"
    }
   ],
   "source": [
    "obj_desc = {\n",
    "    'name': 'MultiPolygons',\n",
    "    'poly_vertices_l': [[[2.5, 0.0], [0.0, 5.0], [-2.5, 0.0], [0.0, -5.0]]]\n",
    "}\n",
    "world_config.object_l = [obj_desc]\n",
    "world = TransportationWorld(world_config)\n",
    "print('Radius: ', world.obj.obj_radius)\n",
    "screen =  255 * np.ones(shape=(world.screen_height, world.screen_width, 3), dtype=np.uint8)\n",
    "world.obj.DrawInPose([25,25], 0, world.pixels_per_meter, screen, (0, 255, 0), 2)\n",
    "plt.imshow(screen)"
   ]
  },
  {
   "cell_type": "markdown",
   "id": "273f56c8-b016-4215-9483-e68fb154ddec",
   "metadata": {},
   "source": [
    "# Hexagono"
   ]
  },
  {
   "cell_type": "code",
   "execution_count": 83,
   "id": "8b6d0b79-aafe-4985-8285-b17bd3b4172c",
   "metadata": {},
   "outputs": [
    {
     "name": "stdout",
     "output_type": "stream",
     "text": [
      "CoM: b2Vec2(0,-4.96705e-09)\n",
      "Radius:  1.118033988749895\n",
      "Radius:  1.118033988749895\n",
      "Scale:  4.47213595499958\n"
     ]
    },
    {
     "data": {
      "text/plain": [
       "[[[4.47213595499958, 0.0],\n",
       "  [2.23606797749979, 4.47213595499958],\n",
       "  [-2.23606797749979, 4.47213595499958],\n",
       "  [-4.47213595499958, 0.0],\n",
       "  [-2.23606797749979, -4.47213595499958],\n",
       "  [2.23606797749979, -4.47213595499958]]]"
      ]
     },
     "execution_count": 83,
     "metadata": {},
     "output_type": "execute_result"
    },
    {
     "data": {
      "image/png": "[encoded data removed]",
      "text/plain": [
       "<Figure size 640x480 with 1 Axes>"
      ]
     },
     "metadata": {},
     "output_type": "display_data"
    }
   ],
   "source": [
    "obj_desc = {\n",
    "    'name': 'MultiPolygons',\n",
    "    'poly_vertices_l': [\n",
    "        [[0.5, 1], [-0.5, 1], [-1, 0], [-0.5, -1], [0.5, -1], [1, 0]]\n",
    "    ]\n",
    "}\n",
    "world_config.object_l = [obj_desc]\n",
    "world = TransportationWorld(world_config)\n",
    "print('Radius: ', world.obj.obj_radius)\n",
    "screen =  255 * np.ones(shape=(world.screen_height, world.screen_width, 3), dtype=np.uint8)\n",
    "world.obj.DrawInPose([25,25], 0, world.pixels_per_meter, screen, (0, 255, 0), 2)\n",
    "plt.imshow(screen)\n",
    "\n",
    "s = 5.0 / world.obj.obj_radius\n",
    "print('Radius: ', world.obj.obj_radius)\n",
    "print('Scale: ', s)\n",
    "\n",
    "final_vertices_l = []\n",
    "body = world.obj.obj_rigid_body\n",
    "for f_i in range(len(body.fixtures)):\n",
    "    final_vertices_l.append(\n",
    "        [[v[0]*s, v[1]*s] for v in body.fixtures[f_i].shape.vertices]\n",
    "    )\n",
    "final_vertices_l"
   ]
  },
  {
   "cell_type": "code",
   "execution_count": 84,
   "id": "3e6da9fa-a812-4e68-afe3-1a45f06f2157",
   "metadata": {},
   "outputs": [
    {
     "name": "stdout",
     "output_type": "stream",
     "text": [
      "CoM: b2Vec2(7.94729e-08,1.58946e-08)\n",
      "Radius:  5.0\n"
     ]
    },
    {
     "data": {
      "text/plain": [
       "<matplotlib.image.AxesImage at 0x169d8a1f0>"
      ]
     },
     "execution_count": 84,
     "metadata": {},
     "output_type": "execute_result"
    },
    {
     "data": {
      "image/png": "[encoded data removed]",
      "text/plain": [
       "<Figure size 640x480 with 1 Axes>"
      ]
     },
     "metadata": {},
     "output_type": "display_data"
    }
   ],
   "source": [
    "obj_desc = {\n",
    "    'name': 'MultiPolygons',\n",
    "    'poly_vertices_l': [[[4.47213595499958, 0.0],\n",
    "  [2.23606797749979, 4.47213595499958],\n",
    "  [-2.23606797749979, 4.47213595499958],\n",
    "  [-4.47213595499958, 0.0],\n",
    "  [-2.23606797749979, -4.47213595499958],\n",
    "  [2.23606797749979, -4.47213595499958]]]\n",
    "}\n",
    "world_config.object_l = [obj_desc]\n",
    "world = TransportationWorld(world_config)\n",
    "print('Radius: ', world.obj.obj_radius)\n",
    "screen =  255 * np.ones(shape=(world.screen_height, world.screen_width, 3), dtype=np.uint8)\n",
    "world.obj.DrawInPose([25,25], 0, world.pixels_per_meter, screen, (0, 255, 0), 2)\n",
    "plt.imshow(screen)"
   ]
  },
  {
   "cell_type": "code",
   "execution_count": 88,
   "id": "6fd2e5dd-8dac-4b4a-8773-e458634186d4",
   "metadata": {},
   "outputs": [
    {
     "name": "stdout",
     "output_type": "stream",
     "text": [
      "CoM: b2Vec2(0,-2.98023e-08)\n",
      "Radius:  1.8095238095238095\n",
      "Radius:  1.8095238095238095\n",
      "Scale:  2.763157894736842\n"
     ]
    },
    {
     "data": {
      "text/plain": [
       "[[[2.763157894736842, 0.5263157992770797],\n",
       "  [1.381578947368421, 3.2894736528396606],\n",
       "  [-1.381578947368421, 3.2894736528396606],\n",
       "  [-2.763157894736842, 0.5263157992770797],\n",
       "  [0.0, -5.000000031370866]]]"
      ]
     },
     "execution_count": 88,
     "metadata": {},
     "output_type": "execute_result"
    },
    {
     "data": {
      "image/png": "[encoded data removed]",
      "text/plain": [
       "<Figure size 640x480 with 1 Axes>"
      ]
     },
     "metadata": {},
     "output_type": "display_data"
    }
   ],
   "source": [
    "obj_desc = {\n",
    "    'name': 'MultiPolygons',\n",
    "    'poly_vertices_l': [\n",
    "        [[0.5, 1], [-0.5, 1], [-1, 0], [0, -2], [1, 0]]\n",
    "    ]\n",
    "}\n",
    "world_config.object_l = [obj_desc]\n",
    "world = TransportationWorld(world_config)\n",
    "print('Radius: ', world.obj.obj_radius)\n",
    "screen =  255 * np.ones(shape=(world.screen_height, world.screen_width, 3), dtype=np.uint8)\n",
    "world.obj.DrawInPose([25,25], 0, world.pixels_per_meter, screen, (0, 255, 0), 2)\n",
    "plt.imshow(screen)\n",
    "\n",
    "s = 5.0 / world.obj.obj_radius\n",
    "print('Radius: ', world.obj.obj_radius)\n",
    "print('Scale: ', s)\n",
    "\n",
    "final_vertices_l = []\n",
    "body = world.obj.obj_rigid_body\n",
    "for f_i in range(len(body.fixtures)):\n",
    "    final_vertices_l.append(\n",
    "        [[v[0]*s, v[1]*s] for v in body.fixtures[f_i].shape.vertices]\n",
    "    )\n",
    "final_vertices_l"
   ]
  },
  {
   "cell_type": "code",
   "execution_count": 90,
   "id": "ddc8fe3c-20a4-4023-a283-6429dd11e015",
   "metadata": {},
   "outputs": [
    {
     "name": "stdout",
     "output_type": "stream",
     "text": [
      "CoM: b2Vec2(8.86318e-18,5.96046e-08)\n",
      "Radius:  5.000000008683007\n"
     ]
    },
    {
     "data": {
      "text/plain": [
       "<matplotlib.image.AxesImage at 0x169894250>"
      ]
     },
     "execution_count": 90,
     "metadata": {},
     "output_type": "execute_result"
    },
    {
     "data": {
      "image/png": "[encoded data removed]",
      "text/plain": [
       "<Figure size 640x480 with 1 Axes>"
      ]
     },
     "metadata": {},
     "output_type": "display_data"
    }
   ],
   "source": [
    "obj_desc = {\n",
    "    'name': 'MultiPolygons',\n",
    "    'poly_vertices_l': [[[2.763157894736842, 0.5263157992770797],\n",
    "  [1.381578947368421, 3.2894736528396606],\n",
    "  [-1.381578947368421, 3.2894736528396606],\n",
    "  [-2.763157894736842, 0.5263157992770797],\n",
    "  [0.0, -5.000000031370866]]]\n",
    "}\n",
    "world_config.object_l = [obj_desc]\n",
    "world = TransportationWorld(world_config)\n",
    "print('Radius: ', world.obj.obj_radius)\n",
    "screen =  255 * np.ones(shape=(world.screen_height, world.screen_width, 3), dtype=np.uint8)\n",
    "world.obj.DrawInPose([25,25], 0, world.pixels_per_meter, screen, (0, 255, 0), 2)\n",
    "plt.imshow(screen)"
   ]
  },
  {
   "cell_type": "markdown",
   "id": "17c568c7-ca88-4504-8c4e-43002cec7e1b",
   "metadata": {},
   "source": [
    "# Weird"
   ]
  },
  {
   "cell_type": "code",
   "execution_count": 46,
   "id": "02338431-5e83-4a04-9e57-95335c5b9f60",
   "metadata": {},
   "outputs": [
    {
     "name": "stdout",
     "output_type": "stream",
     "text": [
      "CoM: b2Vec2(0,8.29282e-08)\n",
      "Radius:  6.9386848621368475\n"
     ]
    },
    {
     "data": {
      "text/plain": [
       "<matplotlib.image.AxesImage at 0x168f62250>"
      ]
     },
     "execution_count": 46,
     "metadata": {},
     "output_type": "execute_result"
    },
    {
     "data": {
      "image/png": "[encoded data removed]",
      "text/plain": [
       "<Figure size 640x480 with 1 Axes>"
      ]
     },
     "metadata": {},
     "output_type": "display_data"
    }
   ],
   "source": [
    "obj_desc = {\n",
    "    'name': 'MultiPolygons', 'poly_vertices_l':[\n",
    "    [[0, 0], [0, 4], [2, 4], [4, 2], [4, 0]],\n",
    "    [[0, 0], [0, 2], [-6, 2], [-6, 0]],\n",
    "    [[0, 0], [-4, -6], [0, -4]],\n",
    "\n",
    "    [[0, 0], [0, -4], [4, -4]],\n",
    "    [[0, 0], [2, -2], [4, 0]]]\n",
    "}\n",
    "world_config.object_l = [obj_desc]\n",
    "world = TransportationWorld(world_config)\n",
    "print('Radius: ', world.obj.obj_radius)\n",
    "screen =  255 * np.ones(shape=(world.screen_height, world.screen_width, 3), dtype=np.uint8)\n",
    "world.obj.DrawInPose([25,25], 0, world.pixels_per_meter, screen, (0, 255, 0), 2)\n",
    "plt.imshow(screen)"
   ]
  },
  {
   "cell_type": "code",
   "execution_count": 47,
   "id": "cb417449-2902-46af-b44a-bdf87ca96fb2",
   "metadata": {},
   "outputs": [
    {
     "name": "stdout",
     "output_type": "stream",
     "text": [
      "Radius:  6.9386848621368475\n",
      "Scale:  0.7205976491718336\n"
     ]
    },
    {
     "data": {
      "text/plain": [
       "[[[2.924164363491274, 0.20886887697066717],\n",
       "  [2.924164363491274, 1.6500641323633674],\n",
       "  [1.482969065147607, 3.0912594307070345],\n",
       "  [0.04177377754168178, 3.0912594307070345],\n",
       "  [0.04177377754168178, 0.20886887697066717]],\n",
       " [[0.04177377754168178, 0.20886887697066717],\n",
       "  [0.04177377754168178, 1.6500641323633674],\n",
       "  [-4.281812128227061, 1.6500641323633674],\n",
       "  [-4.281812128227061, 0.20886887697066717]],\n",
       " [[0.04177377754168178, -2.673521762667634],\n",
       "  [0.04177377754168178, 0.20886887697066717],\n",
       "  [-2.8406168298833943, -4.114717061011301]],\n",
       " [[2.924164363491274, -2.673521762667634],\n",
       "  [0.04177377754168178, 0.20886887697066717],\n",
       "  [0.04177377754168178, -2.673521762667634]],\n",
       " [[2.924164363491274, 0.20886887697066717],\n",
       "  [0.04177377754168178, 0.20886887697066717],\n",
       "  [1.482969065147607, -1.232326378422033]]]"
      ]
     },
     "execution_count": 47,
     "metadata": {},
     "output_type": "execute_result"
    }
   ],
   "source": [
    "s = 5.0 / world.obj.obj_radius\n",
    "print('Radius: ', world.obj.obj_radius)\n",
    "print('Scale: ', s)\n",
    "\n",
    "final_vertices_l = []\n",
    "body = world.obj.obj_rigid_body\n",
    "for f_i in range(len(body.fixtures)):\n",
    "    final_vertices_l.append(\n",
    "        [[v[0]*s, v[1]*s] for v in body.fixtures[f_i].shape.vertices]\n",
    "    )\n",
    "final_vertices_l"
   ]
  },
  {
   "cell_type": "code",
   "execution_count": 48,
   "id": "c9fe7570-8b6d-4687-b025-e5167b11b2ef",
   "metadata": {},
   "outputs": [
    {
     "name": "stdout",
     "output_type": "stream",
     "text": [
      "CoM: b2Vec2(-7.98521e-08,-3.99261e-08)\n",
      "Radius:  5.000000000303107\n"
     ]
    },
    {
     "data": {
      "text/plain": [
       "<matplotlib.image.AxesImage at 0x1692c1850>"
      ]
     },
     "execution_count": 48,
     "metadata": {},
     "output_type": "execute_result"
    },
    {
     "data": {
      "image/png": "[encoded data removed]",
      "text/plain": [
       "<Figure size 640x480 with 1 Axes>"
      ]
     },
     "metadata": {},
     "output_type": "display_data"
    }
   ],
   "source": [
    "obj_desc = {\n",
    "    'name': 'MultiPolygons', 'poly_vertices_l':[[[2.924164363491274, 0.20886887697066717],\n",
    "  [2.924164363491274, 1.6500641323633674],\n",
    "  [1.482969065147607, 3.0912594307070345],\n",
    "  [0.04177377754168178, 3.0912594307070345],\n",
    "  [0.04177377754168178, 0.20886887697066717]],\n",
    " [[0.04177377754168178, 0.20886887697066717],\n",
    "  [0.04177377754168178, 1.6500641323633674],\n",
    "  [-4.281812128227061, 1.6500641323633674],\n",
    "  [-4.281812128227061, 0.20886887697066717]],\n",
    " [[0.04177377754168178, -2.673521762667634],\n",
    "  [0.04177377754168178, 0.20886887697066717],\n",
    "  [-2.8406168298833943, -4.114717061011301]],\n",
    " [[2.924164363491274, -2.673521762667634],\n",
    "  [0.04177377754168178, 0.20886887697066717],\n",
    "  [0.04177377754168178, -2.673521762667634]],\n",
    " [[2.924164363491274, 0.20886887697066717],\n",
    "  [0.04177377754168178, 0.20886887697066717],\n",
    "  [1.482969065147607, -1.232326378422033]]]\n",
    "}\n",
    "world_config.object_l = [obj_desc]\n",
    "world = TransportationWorld(world_config)\n",
    "print('Radius: ', world.obj.obj_radius)\n",
    "screen =  255 * np.ones(shape=(world.screen_height, world.screen_width, 3), dtype=np.uint8)\n",
    "world.obj.DrawInPose([25,25], 0, world.pixels_per_meter, screen, (0, 255, 0), 2)\n",
    "plt.imshow(screen)"
   ]
  },
  {
   "cell_type": "markdown",
   "id": "dc281b04-559c-48bb-adc9-7ae1249eff06",
   "metadata": {},
   "source": [
    "# Weird 2"
   ]
  },
  {
   "cell_type": "code",
   "execution_count": 50,
   "id": "d32f1ef8-a467-4690-a953-2127364edfb8",
   "metadata": {},
   "outputs": [
    {
     "name": "stdout",
     "output_type": "stream",
     "text": [
      "CoM: b2Vec2(-2.6491e-08,0)\n",
      "Radius:  6.708203932499369\n"
     ]
    },
    {
     "data": {
      "text/plain": [
       "<matplotlib.image.AxesImage at 0x16922c4f0>"
      ]
     },
     "execution_count": 50,
     "metadata": {},
     "output_type": "execute_result"
    },
    {
     "data": {
      "image/png": "[encoded data removed]",
      "text/plain": [
       "<Figure size 640x480 with 1 Axes>"
      ]
     },
     "metadata": {},
     "output_type": "display_data"
    }
   ],
   "source": [
    "obj_desc = {\n",
    "    'name': 'MultiPolygons', 'poly_vertices_l':[\n",
    "    [[0, 0], [0, 3], [6, 3], [3, 0]], \n",
    "                    [[0, 3], [0, 6], [3, 3]],\n",
    "\n",
    "                    [[0, 0], [0, 3], [-6, 3], [-3, 0]], \n",
    "                    [[0, 3], [0, 6], [-3, 3]],\n",
    "\n",
    "                    [[0, 0], [0, -3], [6, -3], [3, 0]], \n",
    "                    [[0, -3], [0, -6], [3, -3]],\n",
    "\n",
    "                    [[0, 0], [0, -3], [-6, -3], [-3, 0]], \n",
    "                    [[0, -3], [0, -6], [-3, -3]],\n",
    "                    ]}\n",
    "world_config.object_l = [obj_desc]\n",
    "world = TransportationWorld(world_config)\n",
    "print('Radius: ', world.obj.obj_radius)\n",
    "screen =  255 * np.ones(shape=(world.screen_height, world.screen_width, 3), dtype=np.uint8)\n",
    "world.obj.DrawInPose([25,25], 0, world.pixels_per_meter, screen, (0, 255, 0), 2)\n",
    "plt.imshow(screen)"
   ]
  },
  {
   "cell_type": "code",
   "execution_count": 51,
   "id": "ceddf169-b9eb-4c2b-a952-d9e3f25a03d9",
   "metadata": {},
   "outputs": [
    {
     "name": "stdout",
     "output_type": "stream",
     "text": [
      "Radius:  6.708203932499369\n",
      "Scale:  0.7453559924999299\n"
     ]
    },
    {
     "data": {
      "text/plain": [
       "[[[4.47213595499958, 2.23606797749979],\n",
       "  [0.0, 2.23606797749979],\n",
       "  [0.0, 0.0],\n",
       "  [2.23606797749979, 0.0]],\n",
       " [[2.23606797749979, 2.23606797749979],\n",
       "  [0.0, 4.47213595499958],\n",
       "  [0.0, 2.23606797749979]],\n",
       " [[0.0, 0.0],\n",
       "  [0.0, 2.23606797749979],\n",
       "  [-4.47213595499958, 2.23606797749979],\n",
       "  [-2.23606797749979, 0.0]],\n",
       " [[0.0, 2.23606797749979],\n",
       "  [0.0, 4.47213595499958],\n",
       "  [-2.23606797749979, 2.23606797749979]],\n",
       " [[4.47213595499958, -2.23606797749979],\n",
       "  [2.23606797749979, 0.0],\n",
       "  [0.0, 0.0],\n",
       "  [0.0, -2.23606797749979]],\n",
       " [[2.23606797749979, -2.23606797749979],\n",
       "  [0.0, -2.23606797749979],\n",
       "  [0.0, -4.47213595499958]],\n",
       " [[0.0, -2.23606797749979],\n",
       "  [0.0, 0.0],\n",
       "  [-2.23606797749979, 0.0],\n",
       "  [-4.47213595499958, -2.23606797749979]],\n",
       " [[0.0, -4.47213595499958],\n",
       "  [0.0, -2.23606797749979],\n",
       "  [-2.23606797749979, -2.23606797749979]]]"
      ]
     },
     "execution_count": 51,
     "metadata": {},
     "output_type": "execute_result"
    }
   ],
   "source": [
    "s = 5.0 / world.obj.obj_radius\n",
    "print('Radius: ', world.obj.obj_radius)\n",
    "print('Scale: ', s)\n",
    "\n",
    "final_vertices_l = []\n",
    "body = world.obj.obj_rigid_body\n",
    "for f_i in range(len(body.fixtures)):\n",
    "    final_vertices_l.append(\n",
    "        [[v[0]*s, v[1]*s] for v in body.fixtures[f_i].shape.vertices]\n",
    "    )\n",
    "final_vertices_l"
   ]
  },
  {
   "cell_type": "code",
   "execution_count": 52,
   "id": "7f01ed81-3ca7-4388-ad0a-477e1837ea62",
   "metadata": {},
   "outputs": [
    {
     "name": "stdout",
     "output_type": "stream",
     "text": [
      "CoM: b2Vec2(0,0)\n",
      "Radius:  5.0\n"
     ]
    },
    {
     "data": {
      "text/plain": [
       "<matplotlib.image.AxesImage at 0x168f96160>"
      ]
     },
     "execution_count": 52,
     "metadata": {},
     "output_type": "execute_result"
    },
    {
     "data": {
      "image/png": "[encoded data removed]",
      "text/plain": [
       "<Figure size 640x480 with 1 Axes>"
      ]
     },
     "metadata": {},
     "output_type": "display_data"
    }
   ],
   "source": [
    "obj_desc = {\n",
    "    'name': 'MultiPolygons', 'poly_vertices_l':[[[4.47213595499958, 2.23606797749979],\n",
    "  [0.0, 2.23606797749979],\n",
    "  [0.0, 0.0],\n",
    "  [2.23606797749979, 0.0]],\n",
    " [[2.23606797749979, 2.23606797749979],\n",
    "  [0.0, 4.47213595499958],\n",
    "  [0.0, 2.23606797749979]],\n",
    " [[0.0, 0.0],\n",
    "  [0.0, 2.23606797749979],\n",
    "  [-4.47213595499958, 2.23606797749979],\n",
    "  [-2.23606797749979, 0.0]],\n",
    " [[0.0, 2.23606797749979],\n",
    "  [0.0, 4.47213595499958],\n",
    "  [-2.23606797749979, 2.23606797749979]],\n",
    " [[4.47213595499958, -2.23606797749979],\n",
    "  [2.23606797749979, 0.0],\n",
    "  [0.0, 0.0],\n",
    "  [0.0, -2.23606797749979]],\n",
    " [[2.23606797749979, -2.23606797749979],\n",
    "  [0.0, -2.23606797749979],\n",
    "  [0.0, -4.47213595499958]],\n",
    " [[0.0, -2.23606797749979],\n",
    "  [0.0, 0.0],\n",
    "  [-2.23606797749979, 0.0],\n",
    "  [-4.47213595499958, -2.23606797749979]],\n",
    " [[0.0, -4.47213595499958],\n",
    "  [0.0, -2.23606797749979],\n",
    "  [-2.23606797749979, -2.23606797749979]]]\n",
    "}\n",
    "world_config.object_l = [obj_desc]\n",
    "world = TransportationWorld(world_config)\n",
    "print('Radius: ', world.obj.obj_radius)\n",
    "screen =  255 * np.ones(shape=(world.screen_height, world.screen_width, 3), dtype=np.uint8)\n",
    "world.obj.DrawInPose([25,25], 0, world.pixels_per_meter, screen, (0, 255, 0), 2)\n",
    "plt.imshow(screen)"
   ]
  },
  {
   "cell_type": "markdown",
   "id": "3c65573f-a854-45a5-b14e-5f21cf368000",
   "metadata": {},
   "source": [
    "# X"
   ]
  },
  {
   "cell_type": "code",
   "execution_count": 105,
   "id": "d77cd036-f983-4610-af88-e60e6ef3ad3e",
   "metadata": {},
   "outputs": [
    {
     "name": "stdout",
     "output_type": "stream",
     "text": [
      "CoM: b2Vec2(0,4.33488e-08)\n",
      "Radius:  4.167217594431426\n"
     ]
    },
    {
     "data": {
      "text/plain": [
       "<matplotlib.image.AxesImage at 0x16a2c6460>"
      ]
     },
     "execution_count": 105,
     "metadata": {},
     "output_type": "execute_result"
    },
    {
     "data": {
      "image/png": "[encoded data removed]",
      "text/plain": [
       "<Figure size 640x480 with 1 Axes>"
      ]
     },
     "metadata": {},
     "output_type": "display_data"
    }
   ],
   "source": [
    "obj_desc = {\n",
    "    'name': 'MultiPolygons', 'poly_vertices_l':[\n",
    "        [[1, 2], [-1, 2], [-1, -5], [1, -5]],\n",
    "        [[1, 1], [1, -1], [3, -1], [3, 1]],\n",
    "        [[-1, 1], [-1, -1], [-3, -1], [-3, 1]]\n",
    "    ]\n",
    "}\n",
    "world_config.object_l = [obj_desc]\n",
    "world = TransportationWorld(world_config)\n",
    "print('Radius: ', world.obj.obj_radius)\n",
    "screen =  255 * np.ones(shape=(world.screen_height, world.screen_width, 3), dtype=np.uint8)\n",
    "world.obj.DrawInPose([25,25], 0, world.pixels_per_meter, screen, (0, 255, 0), 2)\n",
    "plt.imshow(screen)"
   ]
  },
  {
   "cell_type": "code",
   "execution_count": 106,
   "id": "32799cde-8963-467b-b584-cb6ab7d0b113",
   "metadata": {},
   "outputs": [
    {
     "name": "stdout",
     "output_type": "stream",
     "text": [
      "Radius:  4.167217594431426\n",
      "Scale:  1.1998413537803752\n"
     ]
    },
    {
     "data": {
      "text/plain": [
       "[[[1.1998413537803752, -4.853903606463432],\n",
       "  [1.1998413537803752, 3.544985869999194],\n",
       "  [-1.1998413537803752, 3.544985869999194],\n",
       "  [-1.1998413537803752, -4.853903606463432]],\n",
       " [[3.5995240613411257, -0.054538244979019726],\n",
       "  [3.5995240613411257, 2.3451445162188187],\n",
       "  [1.1998413537803752, 2.3451445162188187],\n",
       "  [1.1998413537803752, -0.054538244979019726]],\n",
       " [[-1.1998413537803752, -0.054538244979019726],\n",
       "  [-1.1998413537803752, 2.3451445162188187],\n",
       "  [-3.5995240613411257, 2.3451445162188187],\n",
       "  [-3.5995240613411257, -0.054538244979019726]]]"
      ]
     },
     "execution_count": 106,
     "metadata": {},
     "output_type": "execute_result"
    }
   ],
   "source": [
    "s = 5.0 / world.obj.obj_radius\n",
    "print('Radius: ', world.obj.obj_radius)\n",
    "print('Scale: ', s)\n",
    "\n",
    "final_vertices_l = []\n",
    "body = world.obj.obj_rigid_body\n",
    "for f_i in range(len(body.fixtures)):\n",
    "    final_vertices_l.append(\n",
    "        [[v[0]*s, v[1]*s] for v in body.fixtures[f_i].shape.vertices]\n",
    "    )\n",
    "final_vertices_l"
   ]
  },
  {
   "cell_type": "code",
   "execution_count": 107,
   "id": "bf979147-4cbb-4e54-a418-0e585a96857b",
   "metadata": {},
   "outputs": [
    {
     "name": "stdout",
     "output_type": "stream",
     "text": [
      "CoM: b2Vec2(0,-6.02226e-08)\n",
      "Radius:  4.999999999569671\n"
     ]
    },
    {
     "data": {
      "text/plain": [
       "<matplotlib.image.AxesImage at 0x16a3479a0>"
      ]
     },
     "execution_count": 107,
     "metadata": {},
     "output_type": "execute_result"
    },
    {
     "data": {
      "image/png": "[encoded data removed]",
      "text/plain": [
       "<Figure size 640x480 with 1 Axes>"
      ]
     },
     "metadata": {},
     "output_type": "display_data"
    }
   ],
   "source": [
    "obj_desc = {\n",
    "    'name': 'MultiPolygons', 'poly_vertices_l':[[[1.1998413537803752, -4.853903606463432],\n",
    "  [1.1998413537803752, 3.544985869999194],\n",
    "  [-1.1998413537803752, 3.544985869999194],\n",
    "  [-1.1998413537803752, -4.853903606463432]],\n",
    " [[3.5995240613411257, -0.054538244979019726],\n",
    "  [3.5995240613411257, 2.3451445162188187],\n",
    "  [1.1998413537803752, 2.3451445162188187],\n",
    "  [1.1998413537803752, -0.054538244979019726]],\n",
    " [[-1.1998413537803752, -0.054538244979019726],\n",
    "  [-1.1998413537803752, 2.3451445162188187],\n",
    "  [-3.5995240613411257, 2.3451445162188187],\n",
    "  [-3.5995240613411257, -0.054538244979019726]]]\n",
    "}\n",
    "world_config.object_l = [obj_desc]\n",
    "world = TransportationWorld(world_config)\n",
    "print('Radius: ', world.obj.obj_radius)\n",
    "screen =  255 * np.ones(shape=(world.screen_height, world.screen_width, 3), dtype=np.uint8)\n",
    "world.obj.DrawInPose([25,25], 0, world.pixels_per_meter, screen, (0, 255, 0), 2)\n",
    "plt.imshow(screen)"
   ]
  },
  {
   "cell_type": "code",
   "execution_count": null,
   "id": "c427a3ed-0867-4c86-bbf7-c9ac1b9dde4c",
   "metadata": {},
   "outputs": [],
   "source": []
  }
 ],
 "metadata": {
  "kernelspec": {
   "display_name": "Python 3 (ipykernel)",
   "language": "python",
   "name": "python3"
  },
  "language_info": {
   "codemirror_mode": {
    "name": "ipython",
    "version": 3
   },
   "file_extension": ".py",
   "mimetype": "text/x-python",
   "name": "python",
   "nbconvert_exporter": "python",
   "pygments_lexer": "ipython3",
   "version": "3.9.18"
  }
 },
 "nbformat": 4,
 "nbformat_minor": 5
}
